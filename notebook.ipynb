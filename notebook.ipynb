{
 "cells": [
  {
   "cell_type": "code",
   "execution_count": 231,
   "metadata": {},
   "outputs": [],
   "source": [
    "import pandas as pd\n",
    "import numpy as np"
   ]
  },
  {
   "cell_type": "markdown",
   "metadata": {},
   "source": [
    "# Loading Data"
   ]
  },
  {
   "cell_type": "code",
   "execution_count": 232,
   "metadata": {},
   "outputs": [],
   "source": [
    "df = pd.read_csv(r\"data\\movie_data.csv\", lineterminator=\"\\n\")"
   ]
  },
  {
   "cell_type": "code",
   "execution_count": 233,
   "metadata": {},
   "outputs": [
    {
     "data": {
      "text/plain": [
       "Index(['Unnamed: 0', 'adult', 'backdrop_path', 'movie_id', 'original_language',\n",
       "       'original_title', 'overview', 'popularity', 'poster_path',\n",
       "       'release_date', 'title', 'video', 'vote_average', 'vote_count',\n",
       "       'genres', 'keywords', 'cast', 'crew'],\n",
       "      dtype='object')"
      ]
     },
     "execution_count": 233,
     "metadata": {},
     "output_type": "execute_result"
    }
   ],
   "source": [
    "df.columns"
   ]
  },
  {
   "cell_type": "code",
   "execution_count": 234,
   "metadata": {},
   "outputs": [
    {
     "data": {
      "text/html": [
       "<div>\n",
       "<style scoped>\n",
       "    .dataframe tbody tr th:only-of-type {\n",
       "        vertical-align: middle;\n",
       "    }\n",
       "\n",
       "    .dataframe tbody tr th {\n",
       "        vertical-align: top;\n",
       "    }\n",
       "\n",
       "    .dataframe thead th {\n",
       "        text-align: right;\n",
       "    }\n",
       "</style>\n",
       "<table border=\"1\" class=\"dataframe\">\n",
       "  <thead>\n",
       "    <tr style=\"text-align: right;\">\n",
       "      <th></th>\n",
       "      <th>Unnamed: 0</th>\n",
       "      <th>adult</th>\n",
       "      <th>backdrop_path</th>\n",
       "      <th>movie_id</th>\n",
       "      <th>original_language</th>\n",
       "      <th>original_title</th>\n",
       "      <th>overview</th>\n",
       "      <th>popularity</th>\n",
       "      <th>poster_path</th>\n",
       "      <th>release_date</th>\n",
       "      <th>title</th>\n",
       "      <th>video</th>\n",
       "      <th>vote_average</th>\n",
       "      <th>vote_count</th>\n",
       "      <th>genres</th>\n",
       "      <th>keywords</th>\n",
       "      <th>cast</th>\n",
       "      <th>crew</th>\n",
       "    </tr>\n",
       "  </thead>\n",
       "  <tbody>\n",
       "    <tr>\n",
       "      <th>0</th>\n",
       "      <td>0</td>\n",
       "      <td>False</td>\n",
       "      <td>/kQM7o3NIkruIZLoQ9E2XzZQ8Ujl.jpg</td>\n",
       "      <td>783461</td>\n",
       "      <td>hi</td>\n",
       "      <td>लूप लपेटा</td>\n",
       "      <td>When her boyfriend loses a mobster's cash, Sav...</td>\n",
       "      <td>56.311</td>\n",
       "      <td>/onGdT8sYi89drvSJyEJnft97rOq.jpg</td>\n",
       "      <td>2022-02-04</td>\n",
       "      <td>Looop Lapeta</td>\n",
       "      <td>False</td>\n",
       "      <td>6.2</td>\n",
       "      <td>54</td>\n",
       "      <td>[{'id': 28, 'name': 'Action'}, {'id': 35, 'nam...</td>\n",
       "      <td>['remake', 'looop lapeta', 'saade saati']</td>\n",
       "      <td>[{'adult': False, 'gender': 1, 'id': 550167, '...</td>\n",
       "      <td>[{'adult': False, 'gender': 2, 'id': 1071, 'kn...</td>\n",
       "    </tr>\n",
       "  </tbody>\n",
       "</table>\n",
       "</div>"
      ],
      "text/plain": [
       "   Unnamed: 0  adult                     backdrop_path  movie_id  \\\n",
       "0           0  False  /kQM7o3NIkruIZLoQ9E2XzZQ8Ujl.jpg    783461   \n",
       "\n",
       "  original_language original_title  \\\n",
       "0                hi      लूप लपेटा   \n",
       "\n",
       "                                            overview  popularity  \\\n",
       "0  When her boyfriend loses a mobster's cash, Sav...      56.311   \n",
       "\n",
       "                        poster_path release_date         title  video  \\\n",
       "0  /onGdT8sYi89drvSJyEJnft97rOq.jpg   2022-02-04  Looop Lapeta  False   \n",
       "\n",
       "   vote_average  vote_count  \\\n",
       "0           6.2          54   \n",
       "\n",
       "                                              genres  \\\n",
       "0  [{'id': 28, 'name': 'Action'}, {'id': 35, 'nam...   \n",
       "\n",
       "                                    keywords  \\\n",
       "0  ['remake', 'looop lapeta', 'saade saati']   \n",
       "\n",
       "                                                cast  \\\n",
       "0  [{'adult': False, 'gender': 1, 'id': 550167, '...   \n",
       "\n",
       "                                                crew  \n",
       "0  [{'adult': False, 'gender': 2, 'id': 1071, 'kn...  "
      ]
     },
     "execution_count": 234,
     "metadata": {},
     "output_type": "execute_result"
    }
   ],
   "source": [
    "df.head(1)"
   ]
  },
  {
   "cell_type": "markdown",
   "metadata": {},
   "source": [
    "# EDA"
   ]
  },
  {
   "cell_type": "code",
   "execution_count": 235,
   "metadata": {},
   "outputs": [],
   "source": [
    "#dropping the unnamed column\n",
    "df.drop(columns=['Unnamed: 0'], inplace=True)"
   ]
  },
  {
   "cell_type": "code",
   "execution_count": 236,
   "metadata": {},
   "outputs": [
    {
     "data": {
      "text/html": [
       "<div>\n",
       "<style scoped>\n",
       "    .dataframe tbody tr th:only-of-type {\n",
       "        vertical-align: middle;\n",
       "    }\n",
       "\n",
       "    .dataframe tbody tr th {\n",
       "        vertical-align: top;\n",
       "    }\n",
       "\n",
       "    .dataframe thead th {\n",
       "        text-align: right;\n",
       "    }\n",
       "</style>\n",
       "<table border=\"1\" class=\"dataframe\">\n",
       "  <thead>\n",
       "    <tr style=\"text-align: right;\">\n",
       "      <th></th>\n",
       "      <th>adult</th>\n",
       "      <th>backdrop_path</th>\n",
       "      <th>movie_id</th>\n",
       "      <th>original_language</th>\n",
       "      <th>original_title</th>\n",
       "      <th>overview</th>\n",
       "      <th>popularity</th>\n",
       "      <th>poster_path</th>\n",
       "      <th>release_date</th>\n",
       "      <th>title</th>\n",
       "      <th>video</th>\n",
       "      <th>vote_average</th>\n",
       "      <th>vote_count</th>\n",
       "      <th>genres</th>\n",
       "      <th>keywords</th>\n",
       "      <th>cast</th>\n",
       "      <th>crew</th>\n",
       "    </tr>\n",
       "  </thead>\n",
       "  <tbody>\n",
       "    <tr>\n",
       "      <th>0</th>\n",
       "      <td>False</td>\n",
       "      <td>/kQM7o3NIkruIZLoQ9E2XzZQ8Ujl.jpg</td>\n",
       "      <td>783461</td>\n",
       "      <td>hi</td>\n",
       "      <td>लूप लपेटा</td>\n",
       "      <td>When her boyfriend loses a mobster's cash, Sav...</td>\n",
       "      <td>56.311</td>\n",
       "      <td>/onGdT8sYi89drvSJyEJnft97rOq.jpg</td>\n",
       "      <td>2022-02-04</td>\n",
       "      <td>Looop Lapeta</td>\n",
       "      <td>False</td>\n",
       "      <td>6.2</td>\n",
       "      <td>54</td>\n",
       "      <td>[{'id': 28, 'name': 'Action'}, {'id': 35, 'nam...</td>\n",
       "      <td>['remake', 'looop lapeta', 'saade saati']</td>\n",
       "      <td>[{'adult': False, 'gender': 1, 'id': 550167, '...</td>\n",
       "      <td>[{'adult': False, 'gender': 2, 'id': 1071, 'kn...</td>\n",
       "    </tr>\n",
       "  </tbody>\n",
       "</table>\n",
       "</div>"
      ],
      "text/plain": [
       "   adult                     backdrop_path  movie_id original_language  \\\n",
       "0  False  /kQM7o3NIkruIZLoQ9E2XzZQ8Ujl.jpg    783461                hi   \n",
       "\n",
       "  original_title                                           overview  \\\n",
       "0      लूप लपेटा  When her boyfriend loses a mobster's cash, Sav...   \n",
       "\n",
       "   popularity                       poster_path release_date         title  \\\n",
       "0      56.311  /onGdT8sYi89drvSJyEJnft97rOq.jpg   2022-02-04  Looop Lapeta   \n",
       "\n",
       "   video  vote_average  vote_count  \\\n",
       "0  False           6.2          54   \n",
       "\n",
       "                                              genres  \\\n",
       "0  [{'id': 28, 'name': 'Action'}, {'id': 35, 'nam...   \n",
       "\n",
       "                                    keywords  \\\n",
       "0  ['remake', 'looop lapeta', 'saade saati']   \n",
       "\n",
       "                                                cast  \\\n",
       "0  [{'adult': False, 'gender': 1, 'id': 550167, '...   \n",
       "\n",
       "                                                crew  \n",
       "0  [{'adult': False, 'gender': 2, 'id': 1071, 'kn...  "
      ]
     },
     "execution_count": 236,
     "metadata": {},
     "output_type": "execute_result"
    }
   ],
   "source": [
    "df.head(1)"
   ]
  },
  {
   "cell_type": "code",
   "execution_count": 237,
   "metadata": {},
   "outputs": [
    {
     "data": {
      "text/plain": [
       "adult                   0\n",
       "backdrop_path        2851\n",
       "movie_id                0\n",
       "original_language       0\n",
       "original_title          0\n",
       "overview              216\n",
       "popularity              0\n",
       "poster_path           652\n",
       "release_date            0\n",
       "title                   0\n",
       "video                   0\n",
       "vote_average            0\n",
       "vote_count              0\n",
       "genres                  0\n",
       "keywords                0\n",
       "cast                    0\n",
       "crew                    0\n",
       "dtype: int64"
      ]
     },
     "execution_count": 237,
     "metadata": {},
     "output_type": "execute_result"
    }
   ],
   "source": [
    "#checking for missing values in the dataset\n",
    "df.isnull().sum()"
   ]
  },
  {
   "cell_type": "markdown",
   "metadata": {},
   "source": [
    "- Overview is our most important feature, therefore we will remove the missing values from the dataset.\n"
   ]
  },
  {
   "cell_type": "code",
   "execution_count": 238,
   "metadata": {},
   "outputs": [],
   "source": [
    "df = df.dropna(subset=['overview'])\n"
   ]
  },
  {
   "cell_type": "code",
   "execution_count": 239,
   "metadata": {},
   "outputs": [
    {
     "data": {
      "text/html": [
       "<div>\n",
       "<style scoped>\n",
       "    .dataframe tbody tr th:only-of-type {\n",
       "        vertical-align: middle;\n",
       "    }\n",
       "\n",
       "    .dataframe tbody tr th {\n",
       "        vertical-align: top;\n",
       "    }\n",
       "\n",
       "    .dataframe thead th {\n",
       "        text-align: right;\n",
       "    }\n",
       "</style>\n",
       "<table border=\"1\" class=\"dataframe\">\n",
       "  <thead>\n",
       "    <tr style=\"text-align: right;\">\n",
       "      <th></th>\n",
       "      <th>adult</th>\n",
       "      <th>movie_id</th>\n",
       "      <th>original_language</th>\n",
       "      <th>original_title</th>\n",
       "      <th>overview</th>\n",
       "      <th>poster_path</th>\n",
       "      <th>release_date</th>\n",
       "      <th>title</th>\n",
       "      <th>genres</th>\n",
       "      <th>keywords</th>\n",
       "      <th>cast</th>\n",
       "      <th>crew</th>\n",
       "    </tr>\n",
       "  </thead>\n",
       "  <tbody>\n",
       "    <tr>\n",
       "      <th>0</th>\n",
       "      <td>False</td>\n",
       "      <td>783461</td>\n",
       "      <td>hi</td>\n",
       "      <td>लूप लपेटा</td>\n",
       "      <td>When her boyfriend loses a mobster's cash, Sav...</td>\n",
       "      <td>/onGdT8sYi89drvSJyEJnft97rOq.jpg</td>\n",
       "      <td>2022-02-04</td>\n",
       "      <td>Looop Lapeta</td>\n",
       "      <td>[{'id': 28, 'name': 'Action'}, {'id': 35, 'nam...</td>\n",
       "      <td>['remake', 'looop lapeta', 'saade saati']</td>\n",
       "      <td>[{'adult': False, 'gender': 1, 'id': 550167, '...</td>\n",
       "      <td>[{'adult': False, 'gender': 2, 'id': 1071, 'kn...</td>\n",
       "    </tr>\n",
       "  </tbody>\n",
       "</table>\n",
       "</div>"
      ],
      "text/plain": [
       "   adult  movie_id original_language original_title  \\\n",
       "0  False    783461                hi      लूप लपेटा   \n",
       "\n",
       "                                            overview  \\\n",
       "0  When her boyfriend loses a mobster's cash, Sav...   \n",
       "\n",
       "                        poster_path release_date         title  \\\n",
       "0  /onGdT8sYi89drvSJyEJnft97rOq.jpg   2022-02-04  Looop Lapeta   \n",
       "\n",
       "                                              genres  \\\n",
       "0  [{'id': 28, 'name': 'Action'}, {'id': 35, 'nam...   \n",
       "\n",
       "                                    keywords  \\\n",
       "0  ['remake', 'looop lapeta', 'saade saati']   \n",
       "\n",
       "                                                cast  \\\n",
       "0  [{'adult': False, 'gender': 1, 'id': 550167, '...   \n",
       "\n",
       "                                                crew  \n",
       "0  [{'adult': False, 'gender': 2, 'id': 1071, 'kn...  "
      ]
     },
     "execution_count": 239,
     "metadata": {},
     "output_type": "execute_result"
    }
   ],
   "source": [
    "#dropping columns which are nt needed for the problem statement\n",
    "\n",
    "df = df.drop(columns=['popularity', 'backdrop_path', 'vote_count', 'vote_average', 'video', 'popularity'])\n",
    "\n",
    "df.head(1)"
   ]
  },
  {
   "cell_type": "code",
   "execution_count": 240,
   "metadata": {},
   "outputs": [
    {
     "data": {
      "text/plain": [
       "0"
      ]
     },
     "execution_count": 240,
     "metadata": {},
     "output_type": "execute_result"
    }
   ],
   "source": [
    "#checking for duplicates in the dataset\n",
    "df.duplicated().sum()"
   ]
  },
  {
   "cell_type": "markdown",
   "metadata": {},
   "source": [
    "# Data Cleaning"
   ]
  },
  {
   "cell_type": "markdown",
   "metadata": {},
   "source": [
    "Extracting useful information from the columns - \n",
    "- genres, cast and crew"
   ]
  },
  {
   "cell_type": "markdown",
   "metadata": {},
   "source": [
    "1. Genres"
   ]
  },
  {
   "cell_type": "code",
   "execution_count": 241,
   "metadata": {},
   "outputs": [
    {
     "data": {
      "text/plain": [
       "\"[{'id': 28, 'name': 'Action'}, {'id': 35, 'name': 'Comedy'}, {'id': 80, 'name': 'Crime'}]\""
      ]
     },
     "execution_count": 241,
     "metadata": {},
     "output_type": "execute_result"
    }
   ],
   "source": [
    "df['genres'][0]"
   ]
  },
  {
   "cell_type": "code",
   "execution_count": 242,
   "metadata": {},
   "outputs": [],
   "source": [
    "import ast"
   ]
  },
  {
   "cell_type": "code",
   "execution_count": 243,
   "metadata": {},
   "outputs": [],
   "source": [
    "#creating a helper function for genre\n",
    "def process_genres(obj):\n",
    "    genres = [\"Genre\"]\n",
    "    obj = ast.literal_eval(obj)\n",
    "    for dict in obj:\n",
    "        genres.append(dict['name'].replace(\" \", \"\"))\n",
    "    return genres\n"
   ]
  },
  {
   "cell_type": "code",
   "execution_count": 244,
   "metadata": {},
   "outputs": [
    {
     "data": {
      "text/plain": [
       "['Genre', 'Action', 'Comedy', 'Crime']"
      ]
     },
     "execution_count": 244,
     "metadata": {},
     "output_type": "execute_result"
    }
   ],
   "source": [
    "#example of function to process genres\n",
    "process_genres(\"[{'id': 28, 'name': 'Action'}, {'id': 35, 'name': 'Comedy'}, {'id': 80, 'name': 'Crime'}]\")"
   ]
  },
  {
   "cell_type": "code",
   "execution_count": 245,
   "metadata": {},
   "outputs": [],
   "source": [
    "#applying the function on entire dataset\n",
    "df[\"genres\"] = df[\"genres\"].map(process_genres)"
   ]
  },
  {
   "cell_type": "code",
   "execution_count": 246,
   "metadata": {},
   "outputs": [
    {
     "data": {
      "text/plain": [
       "0          [Genre, Action, Comedy, Crime]\n",
       "1        [Genre, Action, Crime, Thriller]\n",
       "2    [Genre, Action, Adventure, Thriller]\n",
       "3                [Genre, Crime, Thriller]\n",
       "4                  [Genre, Drama, Comedy]\n",
       "Name: genres, dtype: object"
      ]
     },
     "execution_count": 246,
     "metadata": {},
     "output_type": "execute_result"
    }
   ],
   "source": [
    "df[\"genres\"].head()"
   ]
  },
  {
   "cell_type": "markdown",
   "metadata": {},
   "source": [
    "2. Cast"
   ]
  },
  {
   "cell_type": "code",
   "execution_count": 247,
   "metadata": {},
   "outputs": [
    {
     "data": {
      "text/plain": [
       "\"[{'adult': False, 'gender': 1, 'id': 550167, 'known_for_department': 'Acting', 'name': 'Taapsee Pannu', 'original_name': 'Taapsee Pannu', 'popularity': 6.156, 'profile_path': '/u9Gwg3J0bdczTPunP8qoWK2Vhu4.jpg', 'cast_id': 1, 'character': 'Savi', 'credit_id': '5ff5b30128723c0040af9605', 'order': 0}, {'adult': False, 'gender': 2, 'id': 1714229, 'known_for_department': 'Acting', 'name': 'Tahir Raj Bhasin', 'original_name': 'Tahir Raj Bhasin', 'popularity': 2.203, 'profile_path': '/A4ylMYWj8IqnmX74Two8c4Lp8jY.jpg', 'cast_id': 3, 'character': 'Satya', 'credit_id': '5ff5b31dd38b580043cb4047', 'order': 1}, {'adult': False, 'gender': 1, 'id': 2092738, 'known_for_department': 'Acting', 'name': 'Shreya Dhanwanthary', 'original_name': 'Shreya Dhanwanthary', 'popularity': 8.802, 'profile_path': '/dSWHYuEWjPzczAzdLFgYHt3Y5Dd.jpg', 'cast_id': 15, 'character': 'Julia', 'credit_id': '6136133e2cde980089dc0082', 'order': 2}, {'adult': False, 'gender': 2, 'id': 101823, 'known_for_department': 'Acting', 'name': 'Dibyendu Bhattacharya', 'original_name': 'Dibyendu Bhattacharya', 'popularity': 6.209, 'profile_path': '/uLlGKCL9y5CFBwcAafTDQhupz5h.jpg', 'cast_id': 22, 'character': 'Victor', 'credit_id': '61d91fac33a53300415c3d18', 'order': 3}, {'adult': False, 'gender': 0, 'id': 1252843, 'known_for_department': 'Acting', 'name': 'Rajendra Chawla', 'original_name': 'Rajendra Chawla', 'popularity': 1.108, 'profile_path': '/rwldmP0tneEflAVgOaQsYmvTZju.jpg', 'cast_id': 21, 'character': 'Mamlesh Charan Chaddha', 'credit_id': '61d91fa2a6fdaa009333e436', 'order': 4}, {'adult': False, 'gender': 2, 'id': 2365591, 'known_for_department': 'Acting', 'name': 'K.C. Shankar', 'original_name': 'K.C. Shankar', 'popularity': 2.075, 'profile_path': '/fbxJMM6YZGl3OLHhnqISzPjbSpB.jpg', 'cast_id': 23, 'character': 'Atul Borkar', 'credit_id': '61d91fb833a53300415c3d36', 'order': 5}, {'adult': False, 'gender': 2, 'id': 1927085, 'known_for_department': 'Directing', 'name': 'Suresh Triveni', 'original_name': 'Suresh Triveni', 'popularity': 0.98, 'profile_path': None, 'cast_id': 34, 'character': 'Gangster Pedro', 'credit_id': '61e2f1d4ffd44d006bd2b773', 'order': 6}, {'adult': False, 'gender': 2, 'id': 2967857, 'known_for_department': 'Acting', 'name': 'Manik Papneja', 'original_name': 'Manik Papneja', 'popularity': 1.177, 'profile_path': '/bjVqyExEk5n1qHLuOnbR8UbPLpY.jpg', 'cast_id': 24, 'character': 'Appu', 'credit_id': '61d91fc9293835009569944f', 'order': 7}, {'adult': False, 'gender': 2, 'id': 2400790, 'known_for_department': 'Acting', 'name': 'Raghav Raj Kakker', 'original_name': 'Raghav Raj Kakker', 'popularity': 1.22, 'profile_path': '/p4TqLqcbyZWryGGDJjMaYL89CfU.jpg', 'cast_id': 25, 'character': 'Gappu', 'credit_id': '61d91fe09824c8004140a205', 'order': 8}, {'adult': False, 'gender': 2, 'id': 1951414, 'known_for_department': 'Acting', 'name': 'Sameer Kevin Roy', 'original_name': 'Sameer Kevin Roy', 'popularity': 1.38, 'profile_path': None, 'cast_id': 26, 'character': 'Jacob', 'credit_id': '61d91fea5ed8e9001d41c9e2', 'order': 9}, {'adult': False, 'gender': 2, 'id': 3373394, 'known_for_department': 'Acting', 'name': 'Bhupesh Bandekar', 'original_name': 'Bhupesh Bandekar', 'popularity': 0.98, 'profile_path': None, 'cast_id': 27, 'character': 'Inspector David Colaco', 'credit_id': '61d91ff70e5aba0042ffb116', 'order': 10}, {'adult': False, 'gender': 2, 'id': 3412117, 'known_for_department': 'Acting', 'name': 'Alistar Bennis', 'original_name': 'Alistar Bennis', 'popularity': 0.98, 'profile_path': None, 'cast_id': 49, 'character': 'Robert', 'credit_id': '61fce7ee1e259a0113e2778e', 'order': 11}, {'adult': False, 'gender': 2, 'id': 3412118, 'known_for_department': 'Acting', 'name': 'Varun Pande', 'original_name': 'Varun Pande', 'popularity': 0.6, 'profile_path': None, 'cast_id': 50, 'character': 'Yash', 'credit_id': '61fce7fadfaae9009c588c3f', 'order': 12}, {'adult': False, 'gender': 0, 'id': 3412128, 'known_for_department': 'Acting', 'name': 'Babajaan Devaraya', 'original_name': 'Babajaan Devaraya', 'popularity': 0.6, 'profile_path': None, 'cast_id': 60, 'character': 'Rastafarian', 'credit_id': '61fcea25eee18600cd3e95d0', 'order': 13}, {'adult': False, 'gender': 0, 'id': 3412129, 'known_for_department': 'Acting', 'name': 'Guia Bianchi', 'original_name': 'Guia Bianchi', 'popularity': 0.6, 'profile_path': None, 'cast_id': 61, 'character': 'Lola', 'credit_id': '61fcea3d7a97ab00732bb9e9', 'order': 14}, {'adult': False, 'gender': 1, 'id': 3565643, 'known_for_department': 'Acting', 'name': 'Priya Paramita Paul', 'original_name': 'Priya Paramita Paul', 'popularity': 0.6, 'profile_path': '/zTRyZGrYPMEWXXCw2NBGzupvAqL.jpg', 'cast_id': 62, 'character': 'zoya', 'credit_id': '62906bf3a24232009b59114b', 'order': 15}]\""
      ]
     },
     "execution_count": 247,
     "metadata": {},
     "output_type": "execute_result"
    }
   ],
   "source": [
    "df.cast[0]"
   ]
  },
  {
   "cell_type": "code",
   "execution_count": 248,
   "metadata": {},
   "outputs": [
    {
     "data": {
      "text/plain": [
       "'Taapsee Pannu'"
      ]
     },
     "execution_count": 248,
     "metadata": {},
     "output_type": "execute_result"
    }
   ],
   "source": [
    "a = ast.literal_eval(df['cast'][0])\n",
    "a[0]['name']"
   ]
  },
  {
   "cell_type": "code",
   "execution_count": 249,
   "metadata": {},
   "outputs": [],
   "source": [
    "#we will extract only the top 3 actors from the cast for each movie\n",
    "\n",
    "def process_cast(obj):\n",
    "    cast = [\"Actors\"]\n",
    "    obj = ast.literal_eval(obj)\n",
    "    for dict in obj:\n",
    "        cast.append(dict['name'].replace(\" \", \"\"))\n",
    "        if len(cast) >= 3:\n",
    "            break\n",
    "    return cast"
   ]
  },
  {
   "cell_type": "code",
   "execution_count": 250,
   "metadata": {},
   "outputs": [
    {
     "data": {
      "text/plain": [
       "['Actors', 'TaapseePannu', 'TahirRajBhasin']"
      ]
     },
     "execution_count": 250,
     "metadata": {},
     "output_type": "execute_result"
    }
   ],
   "source": [
    "process_cast(df.cast[0])"
   ]
  },
  {
   "cell_type": "code",
   "execution_count": 251,
   "metadata": {},
   "outputs": [],
   "source": [
    "df['cast'] = df['cast'].map(process_cast)"
   ]
  },
  {
   "cell_type": "code",
   "execution_count": 252,
   "metadata": {},
   "outputs": [
    {
     "data": {
      "text/plain": [
       "0     [Actors, TaapseePannu, TahirRajBhasin]\n",
       "1         [Actors, AkshayKumar, KatrinaKaif]\n",
       "2    [Actors, ShahRukhKhan, DeepikaPadukone]\n",
       "3         [Actors, YamiGautam, SunnyKaushal]\n",
       "4            [Actors, AamirKhan, R.Madhavan]\n",
       "Name: cast, dtype: object"
      ]
     },
     "execution_count": 252,
     "metadata": {},
     "output_type": "execute_result"
    }
   ],
   "source": [
    "df['cast'].head()"
   ]
  },
  {
   "cell_type": "markdown",
   "metadata": {},
   "source": [
    "3. Crew"
   ]
  },
  {
   "cell_type": "code",
   "execution_count": 253,
   "metadata": {},
   "outputs": [
    {
     "data": {
      "text/plain": [
       "\"[{'adult': False, 'gender': 2, 'id': 1071, 'known_for_department': 'Directing', 'name': 'Tom Tykwer', 'original_name': 'Tom Tykwer', 'popularity': 4.312, 'profile_path': '/cu7F4AulzRbj0dZH9s5pRM61w64.jpg', 'credit_id': '617796df9ee0ef008c45483e', 'department': 'Writing', 'job': 'Original Story'}, {'adult': False, 'gender': 2, 'id': 1108802, 'known_for_department': 'Production', 'name': 'Mukesh Chhabra', 'original_name': 'Mukesh Chhabra', 'popularity': 2.972, 'profile_path': '/f5XI2wJs2JPcd5FSECsdcnkyOMW.jpg', 'credit_id': '61e09db05bce9e0041751368', 'department': 'Production', 'job': 'Casting Director'}, {'adult': False, 'gender': 0, 'id': 1208683, 'known_for_department': 'Production', 'name': 'Tanuj Garg', 'original_name': 'Tanuj Garg', 'popularity': 0.6, 'profile_path': None, 'credit_id': '5ff5b40d245dbe003d301373', 'department': 'Production', 'job': 'Producer'}, {'adult': False, 'gender': 0, 'id': 1376941, 'known_for_department': 'Production', 'name': 'Siddharth Atha', 'original_name': 'Siddharth Atha', 'popularity': 0.6, 'profile_path': None, 'credit_id': '61fce8f26f31af008f869555', 'department': 'Production', 'job': 'Executive Producer'}, {'adult': False, 'gender': 2, 'id': 1434492, 'known_for_department': 'Crew', 'name': 'Ejaz Gulab', 'original_name': 'Ejaz Gulab', 'popularity': 0.98, 'profile_path': None, 'credit_id': '61fce8915c3247009504c450', 'department': 'Crew', 'job': 'Stunt Coordinator'}, {'adult': False, 'gender': 0, 'id': 1561318, 'known_for_department': 'Production', 'name': 'Atul Kasbekar', 'original_name': 'Atul Kasbekar', 'popularity': 0.6, 'profile_path': None, 'credit_id': '5ff5b4267e9d5f004032ac2b', 'department': 'Production', 'job': 'Producer'}, {'adult': False, 'gender': 0, 'id': 1561320, 'known_for_department': 'Production', 'name': 'Shanti Sivaram Maini', 'original_name': 'Shanti Sivaram Maini', 'popularity': 0.6, 'profile_path': None, 'credit_id': '61fce92364de35004421dedd', 'department': 'Production', 'job': 'Co-Producer'}, {'adult': False, 'gender': 0, 'id': 1682059, 'known_for_department': 'Art', 'name': 'Aashish Porwal', 'original_name': 'Aashish Porwal', 'popularity': 0.6, 'profile_path': None, 'credit_id': '5ff5b46ab865eb003cb1ef68', 'department': 'Art', 'job': 'Art Direction'}, {'adult': False, 'gender': 0, 'id': 1730578, 'known_for_department': 'Lighting', 'name': 'Yash Khanna', 'original_name': 'Yash Khanna', 'popularity': 0.6, 'profile_path': None, 'credit_id': '6177964fa579f90027164d8c', 'department': 'Camera', 'job': 'Director of Photography'}, {'adult': False, 'gender': 0, 'id': 1860546, 'known_for_department': 'Production', 'name': 'Simran Sawhney', 'original_name': 'Simran Sawhney', 'popularity': 0.6, 'profile_path': None, 'credit_id': '5ff5b44cd38b580041cbc125', 'department': 'Production', 'job': 'Producer'}, {'adult': False, 'gender': 0, 'id': 1985232, 'known_for_department': 'Sound', 'name': 'Gautam Nair', 'original_name': 'Gautam Nair', 'popularity': 0.6, 'profile_path': None, 'credit_id': '61fce869ce997a010f725729', 'department': 'Sound', 'job': 'Sound Designer'}, {'adult': False, 'gender': 0, 'id': 2035070, 'known_for_department': 'Costume & Make-Up', 'name': 'Indrakshi Pattanaik', 'original_name': 'Indrakshi Pattanaik', 'popularity': 0.6, 'profile_path': None, 'credit_id': '61e08aa31511aa001c122ad5', 'department': 'Costume & Make-Up', 'job': 'Costume Designer'}, {'adult': False, 'gender': 0, 'id': 2036033, 'known_for_department': 'Editing', 'name': 'Priyank Prem Kumar', 'original_name': 'Priyank Prem Kumar', 'popularity': 0.6, 'profile_path': None, 'credit_id': '617797016e0d720063599cec', 'department': 'Editing', 'job': 'Editor'}, {'adult': False, 'gender': 0, 'id': 2266291, 'known_for_department': 'Art', 'name': 'Pradeep Paul Francis', 'original_name': 'Pradeep Paul Francis', 'popularity': 0.6, 'profile_path': None, 'credit_id': '61fce8b05c324700ddac68aa', 'department': 'Art', 'job': 'Production Design'}, {'adult': False, 'gender': 0, 'id': 2266293, 'known_for_department': 'Art', 'name': 'Diya Mukerjea', 'original_name': 'Diya Mukerjea', 'popularity': 0.6, 'profile_path': None, 'credit_id': '61fce8c56f31af00ba036b8b', 'department': 'Art', 'job': 'Production Design'}, {'adult': False, 'gender': 0, 'id': 2329287, 'known_for_department': 'Writing', 'name': 'Vinay Chhawal', 'original_name': 'Vinay Chhawal', 'popularity': 0.98, 'profile_path': None, 'credit_id': '61d9201f6331b200990b4acb', 'department': 'Writing', 'job': 'Writer'}, {'adult': False, 'gender': 0, 'id': 2542498, 'known_for_department': 'Production', 'name': 'Aakash Bhatia', 'original_name': 'Aakash Bhatia', 'popularity': 1.38, 'profile_path': None, 'credit_id': '617797a8894ed60064768a3b', 'department': 'Directing', 'job': 'Director'}, {'adult': False, 'gender': 0, 'id': 2542498, 'known_for_department': 'Production', 'name': 'Aakash Bhatia', 'original_name': 'Aakash Bhatia', 'popularity': 1.38, 'profile_path': None, 'credit_id': '61d920446dea3a001f020890', 'department': 'Writing', 'job': 'Writer'}, {'adult': False, 'gender': 0, 'id': 2553014, 'known_for_department': 'Sound', 'name': 'Sharvi Yadav', 'original_name': 'Sharvi Yadav', 'popularity': 0.6, 'profile_path': None, 'credit_id': '61e6904ac613ce008cefbfe5', 'department': 'Sound', 'job': 'Playback Singer'}, {'adult': False, 'gender': 0, 'id': 2680859, 'known_for_department': 'Writing', 'name': 'Puneet Chadha', 'original_name': 'Puneet Chadha', 'popularity': 0.6, 'profile_path': None, 'credit_id': '61fce90d64de35004421ded5', 'department': 'Crew', 'job': 'Additional Dialogue'}, {'adult': False, 'gender': 0, 'id': 2783444, 'known_for_department': 'Writing', 'name': 'Siddhant Kaushal', 'original_name': 'Siddhant Kaushal', 'popularity': 0.6, 'profile_path': None, 'credit_id': '61e690617d2bc1009fd31847', 'department': 'Writing', 'job': 'Lyricist'}, {'adult': False, 'gender': 0, 'id': 2925506, 'known_for_department': 'Production', 'name': 'Aayush Maheshwari', 'original_name': 'Aayush Maheshwari', 'popularity': 0.6, 'profile_path': None, 'credit_id': '5ff5b43a7e9d5f003e325971', 'department': 'Production', 'job': 'Producer'}, {'adult': False, 'gender': 0, 'id': 2925509, 'known_for_department': 'Production', 'name': 'Rohit Chandaliya', 'original_name': 'Rohit Chandaliya', 'popularity': 0.6, 'profile_path': None, 'credit_id': '5ff5b4b0f48e0d004172b353', 'department': 'Production', 'job': 'Production Manager'}, {'adult': False, 'gender': 0, 'id': 3139446, 'known_for_department': 'Writing', 'name': 'Sidhant Mago', 'original_name': 'Sidhant Mago', 'popularity': 0.98, 'profile_path': None, 'credit_id': '61e68f84a402c1001c119804', 'department': 'Sound', 'job': 'Original Music Composer'}, {'adult': False, 'gender': 0, 'id': 3139446, 'known_for_department': 'Writing', 'name': 'Sidhant Mago', 'original_name': 'Sidhant Mago', 'popularity': 0.98, 'profile_path': None, 'credit_id': '61e68f8e2d93750066f4b059', 'department': 'Sound', 'job': 'Playback Singer'}, {'adult': False, 'gender': 0, 'id': 3139446, 'known_for_department': 'Writing', 'name': 'Sidhant Mago', 'original_name': 'Sidhant Mago', 'popularity': 0.98, 'profile_path': None, 'credit_id': '61e68fa2a402c10042e9419c', 'department': 'Writing', 'job': 'Lyricist'}, {'adult': False, 'gender': 0, 'id': 3220399, 'known_for_department': 'Production', 'name': 'Vivek Krishnani', 'original_name': 'Vivek Krishnani', 'popularity': 0.6, 'profile_path': None, 'credit_id': '61d91f885ed8e9001d41c8bf', 'department': 'Production', 'job': 'Producer'}, {'adult': False, 'gender': 0, 'id': 3340143, 'known_for_department': 'Sound', 'name': 'Ronkini Gupta', 'original_name': 'Ronkini Gupta', 'popularity': 0.6, 'profile_path': None, 'credit_id': '61e53cff0cd32a0042fa6941', 'department': 'Sound', 'job': 'Playback Singer'}, {'adult': False, 'gender': 0, 'id': 3357290, 'known_for_department': 'Acting', 'name': 'Santanu Ghatak', 'original_name': 'Santanu Ghatak', 'popularity': 0.98, 'profile_path': None, 'credit_id': '61e53cdd7d2bc10041e8919a', 'department': 'Sound', 'job': 'Original Music Composer'}, {'adult': False, 'gender': 0, 'id': 3357290, 'known_for_department': 'Acting', 'name': 'Santanu Ghatak', 'original_name': 'Santanu Ghatak', 'popularity': 0.98, 'profile_path': None, 'credit_id': '61e53ceb2d93750041a5bbca', 'department': 'Writing', 'job': 'Lyricist'}, {'adult': False, 'gender': 0, 'id': 3373395, 'known_for_department': 'Writing', 'name': 'Ketan Pedgaonkar', 'original_name': 'Ketan Pedgaonkar', 'popularity': 0.98, 'profile_path': None, 'credit_id': '61d920363faba00041f7b438', 'department': 'Writing', 'job': 'Writer'}, {'adult': False, 'gender': 0, 'id': 3373396, 'known_for_department': 'Writing', 'name': 'Arnav Vepa Nanduri', 'original_name': 'Arnav Vepa Nanduri', 'popularity': 0.98, 'profile_path': None, 'credit_id': '61d9206097fdec0041035a24', 'department': 'Writing', 'job': 'Writer'}, {'adult': False, 'gender': 0, 'id': 3386264, 'known_for_department': 'Sound', 'name': 'Raghav Kaushik', 'original_name': 'Raghav Kaushik', 'popularity': 0.6, 'profile_path': None, 'credit_id': '61e53d0b6aa8e0008cc281c5', 'department': 'Sound', 'job': 'Playback Singer'}, {'adult': False, 'gender': 0, 'id': 3387728, 'known_for_department': 'Sound', 'name': 'Mayank Mehra', 'original_name': 'Mayank Mehra', 'popularity': 0.6, 'profile_path': None, 'credit_id': '61e68f746840cc0067eba773', 'department': 'Sound', 'job': 'Original Music Composer'}, {'adult': False, 'gender': 0, 'id': 3387729, 'known_for_department': 'Sound', 'name': 'Jay Anand', 'original_name': 'Jay Anand', 'popularity': 0.6, 'profile_path': None, 'credit_id': '61e68fb9f3b49a001c026418', 'department': 'Sound', 'job': 'Playback Singer'}, {'adult': False, 'gender': 0, 'id': 3387731, 'known_for_department': 'Sound', 'name': 'Harshal Vyas', 'original_name': 'Harshal Vyas', 'popularity': 0.98, 'profile_path': None, 'credit_id': '61e6900b07a8080067841de4', 'department': 'Sound', 'job': 'Playback Singer'}, {'adult': False, 'gender': 0, 'id': 3387732, 'known_for_department': 'Sound', 'name': 'Rahul Pais', 'original_name': 'Rahul Pais', 'popularity': 0.6, 'profile_path': None, 'credit_id': '61e69029b7abb50041006b2a', 'department': 'Sound', 'job': 'Original Music Composer'}, {'adult': False, 'gender': 0, 'id': 3387733, 'known_for_department': 'Sound', 'name': 'Nariman Khambata', 'original_name': 'Nariman Khambata', 'popularity': 0.6, 'profile_path': None, 'credit_id': '61e690362d93750041a91342', 'department': 'Sound', 'job': 'Original Music Composer'}, {'adult': False, 'gender': 0, 'id': 3412122, 'known_for_department': 'Production', 'name': 'Swati Iyer Chawla', 'original_name': 'Swati Iyer Chawla', 'popularity': 0.6, 'profile_path': None, 'credit_id': '61fce937ce997a006bbfd0f3', 'department': 'Production', 'job': 'Co-Producer'}, {'adult': False, 'gender': 0, 'id': 3412123, 'known_for_department': 'Production', 'name': 'Piya Sawhney', 'original_name': 'Piya Sawhney', 'popularity': 0.6, 'profile_path': None, 'credit_id': '61fce955bf0f6300a2e985ec', 'department': 'Production', 'job': 'Co-Producer'}, {'adult': False, 'gender': 0, 'id': 3865885, 'known_for_department': 'Sound', 'name': 'Shahbad Karan', 'original_name': 'Shahbad Karan', 'popularity': 0.6, 'profile_path': '/cBPJ5o4rTfe5IMuDbLty8BpXX1k.jpg', 'credit_id': '63f0ca37a6725400a3a2783a', 'department': 'Sound', 'job': 'Musician'}]\""
      ]
     },
     "execution_count": 253,
     "metadata": {},
     "output_type": "execute_result"
    }
   ],
   "source": [
    "df.crew[0]"
   ]
  },
  {
   "cell_type": "code",
   "execution_count": 254,
   "metadata": {},
   "outputs": [],
   "source": [
    "#extracting only director name from the crew feature\n",
    "\n",
    "def process_crew(obj):\n",
    "    crew = ['Director']\n",
    "    obj = ast.literal_eval(obj)\n",
    "    for dict in obj:\n",
    "        if dict['job'] == 'Director':\n",
    "            crew.append(dict['name'].replace(' ', ''))\n",
    "            break\n",
    "    return crew"
   ]
  },
  {
   "cell_type": "code",
   "execution_count": 255,
   "metadata": {},
   "outputs": [
    {
     "data": {
      "text/plain": [
       "['Director', 'AakashBhatia']"
      ]
     },
     "execution_count": 255,
     "metadata": {},
     "output_type": "execute_result"
    }
   ],
   "source": [
    "process_crew(df.crew[0])"
   ]
  },
  {
   "cell_type": "code",
   "execution_count": 256,
   "metadata": {},
   "outputs": [],
   "source": [
    "df['crew'] = df['crew'].map(process_crew)"
   ]
  },
  {
   "cell_type": "code",
   "execution_count": 257,
   "metadata": {},
   "outputs": [
    {
     "data": {
      "text/plain": [
       "0      [Director, AakashBhatia]\n",
       "1       [Director, RohitShetty]\n",
       "2    [Director, SiddharthAnand]\n",
       "3         [Director, AjaySingh]\n",
       "4    [Director, RajkumarHirani]\n",
       "Name: crew, dtype: object"
      ]
     },
     "execution_count": 257,
     "metadata": {},
     "output_type": "execute_result"
    }
   ],
   "source": [
    "df.crew.head()"
   ]
  },
  {
   "cell_type": "code",
   "execution_count": 258,
   "metadata": {},
   "outputs": [],
   "source": [
    "df['keywords'] = df['keywords'].map(ast.literal_eval)"
   ]
  },
  {
   "cell_type": "code",
   "execution_count": 259,
   "metadata": {},
   "outputs": [
    {
     "data": {
      "text/html": [
       "<div>\n",
       "<style scoped>\n",
       "    .dataframe tbody tr th:only-of-type {\n",
       "        vertical-align: middle;\n",
       "    }\n",
       "\n",
       "    .dataframe tbody tr th {\n",
       "        vertical-align: top;\n",
       "    }\n",
       "\n",
       "    .dataframe thead th {\n",
       "        text-align: right;\n",
       "    }\n",
       "</style>\n",
       "<table border=\"1\" class=\"dataframe\">\n",
       "  <thead>\n",
       "    <tr style=\"text-align: right;\">\n",
       "      <th></th>\n",
       "      <th>adult</th>\n",
       "      <th>movie_id</th>\n",
       "      <th>original_language</th>\n",
       "      <th>original_title</th>\n",
       "      <th>overview</th>\n",
       "      <th>poster_path</th>\n",
       "      <th>release_date</th>\n",
       "      <th>title</th>\n",
       "      <th>genres</th>\n",
       "      <th>keywords</th>\n",
       "      <th>cast</th>\n",
       "      <th>crew</th>\n",
       "    </tr>\n",
       "  </thead>\n",
       "  <tbody>\n",
       "    <tr>\n",
       "      <th>0</th>\n",
       "      <td>False</td>\n",
       "      <td>783461</td>\n",
       "      <td>hi</td>\n",
       "      <td>लूप लपेटा</td>\n",
       "      <td>When her boyfriend loses a mobster's cash, Sav...</td>\n",
       "      <td>/onGdT8sYi89drvSJyEJnft97rOq.jpg</td>\n",
       "      <td>2022-02-04</td>\n",
       "      <td>Looop Lapeta</td>\n",
       "      <td>[Genre, Action, Comedy, Crime]</td>\n",
       "      <td>[remake, looop lapeta, saade saati]</td>\n",
       "      <td>[Actors, TaapseePannu, TahirRajBhasin]</td>\n",
       "      <td>[Director, AakashBhatia]</td>\n",
       "    </tr>\n",
       "    <tr>\n",
       "      <th>1</th>\n",
       "      <td>False</td>\n",
       "      <td>592508</td>\n",
       "      <td>hi</td>\n",
       "      <td>Sooryavanshi</td>\n",
       "      <td>A fearless, faithful albeit slightly forgetful...</td>\n",
       "      <td>/8p3mhjyLjHKtaAv8tFKfvEBtir0.jpg</td>\n",
       "      <td>2021-11-05</td>\n",
       "      <td>Sooryavanshi</td>\n",
       "      <td>[Genre, Action, Crime, Thriller]</td>\n",
       "      <td>[police, sequel, police officer, cop universe]</td>\n",
       "      <td>[Actors, AkshayKumar, KatrinaKaif]</td>\n",
       "      <td>[Director, RohitShetty]</td>\n",
       "    </tr>\n",
       "  </tbody>\n",
       "</table>\n",
       "</div>"
      ],
      "text/plain": [
       "   adult  movie_id original_language original_title  \\\n",
       "0  False    783461                hi      लूप लपेटा   \n",
       "1  False    592508                hi   Sooryavanshi   \n",
       "\n",
       "                                            overview  \\\n",
       "0  When her boyfriend loses a mobster's cash, Sav...   \n",
       "1  A fearless, faithful albeit slightly forgetful...   \n",
       "\n",
       "                        poster_path release_date         title  \\\n",
       "0  /onGdT8sYi89drvSJyEJnft97rOq.jpg   2022-02-04  Looop Lapeta   \n",
       "1  /8p3mhjyLjHKtaAv8tFKfvEBtir0.jpg   2021-11-05  Sooryavanshi   \n",
       "\n",
       "                             genres  \\\n",
       "0    [Genre, Action, Comedy, Crime]   \n",
       "1  [Genre, Action, Crime, Thriller]   \n",
       "\n",
       "                                         keywords  \\\n",
       "0             [remake, looop lapeta, saade saati]   \n",
       "1  [police, sequel, police officer, cop universe]   \n",
       "\n",
       "                                     cast                      crew  \n",
       "0  [Actors, TaapseePannu, TahirRajBhasin]  [Director, AakashBhatia]  \n",
       "1      [Actors, AkshayKumar, KatrinaKaif]   [Director, RohitShetty]  "
      ]
     },
     "execution_count": 259,
     "metadata": {},
     "output_type": "execute_result"
    }
   ],
   "source": [
    "df.head(2)"
   ]
  },
  {
   "cell_type": "code",
   "execution_count": 260,
   "metadata": {},
   "outputs": [],
   "source": [
    "#    df['genres'] = df['genres'].apply(lambda x: [i.replace(' ', '') for i in x])\n",
    " #   df['cast'] = df['cast'].apply(lambda x: [i.replace(' ', '') for i in x])\n",
    "  #  df['crew'] = df['crew'].apply(lambda x: [i.replace(' ', '') for i in x])\n",
    "   # df['keywords'] = df['keywords'].apply(lambda x: [i.replace(' ', '') for i in x])"
   ]
  },
  {
   "cell_type": "code",
   "execution_count": 261,
   "metadata": {},
   "outputs": [],
   "source": [
    "#Tokenizing the overview column\n",
    "\n",
    "df['overview'] = df['overview'].apply(lambda x: x.split())"
   ]
  },
  {
   "cell_type": "code",
   "execution_count": 262,
   "metadata": {},
   "outputs": [
    {
     "data": {
      "text/plain": [
       "0        [When, her, boyfriend, loses, a, mobster's, ca...\n",
       "1        [A, fearless,, faithful, albeit, slightly, for...\n",
       "2        [A, soldier, caught, by, enemies, and, presume...\n",
       "3        [A, flight, attendant, and, her, boyfriend, mu...\n",
       "4        [Rascal., Joker., Dreamer., Genius..., You've,...\n",
       "                               ...                        \n",
       "15866    [Two, veterans, of, the, Bosnian, War,, one, A...\n",
       "15867    [Ten, years, ago,, a, tragedy, changed, the, t...\n",
       "15868    [Beautiful, Mandy, Lane, isn't, a, party, girl...\n",
       "15869    [As, the, countdown, to, graduation, begins,, ...\n",
       "15870    [Charlie, and, Dan, have, been, best, friends,...\n",
       "Name: overview, Length: 15655, dtype: object"
      ]
     },
     "execution_count": 262,
     "metadata": {},
     "output_type": "execute_result"
    }
   ],
   "source": [
    "df['overview']"
   ]
  },
  {
   "cell_type": "code",
   "execution_count": 263,
   "metadata": {},
   "outputs": [
    {
     "data": {
      "text/html": [
       "<div>\n",
       "<style scoped>\n",
       "    .dataframe tbody tr th:only-of-type {\n",
       "        vertical-align: middle;\n",
       "    }\n",
       "\n",
       "    .dataframe tbody tr th {\n",
       "        vertical-align: top;\n",
       "    }\n",
       "\n",
       "    .dataframe thead th {\n",
       "        text-align: right;\n",
       "    }\n",
       "</style>\n",
       "<table border=\"1\" class=\"dataframe\">\n",
       "  <thead>\n",
       "    <tr style=\"text-align: right;\">\n",
       "      <th></th>\n",
       "      <th>adult</th>\n",
       "      <th>movie_id</th>\n",
       "      <th>original_language</th>\n",
       "      <th>original_title</th>\n",
       "      <th>overview</th>\n",
       "      <th>poster_path</th>\n",
       "      <th>release_date</th>\n",
       "      <th>title</th>\n",
       "      <th>genres</th>\n",
       "      <th>keywords</th>\n",
       "      <th>cast</th>\n",
       "      <th>crew</th>\n",
       "    </tr>\n",
       "  </thead>\n",
       "  <tbody>\n",
       "    <tr>\n",
       "      <th>0</th>\n",
       "      <td>False</td>\n",
       "      <td>783461</td>\n",
       "      <td>hi</td>\n",
       "      <td>लूप लपेटा</td>\n",
       "      <td>[When, her, boyfriend, loses, a, mobster's, ca...</td>\n",
       "      <td>/onGdT8sYi89drvSJyEJnft97rOq.jpg</td>\n",
       "      <td>2022-02-04</td>\n",
       "      <td>Looop Lapeta</td>\n",
       "      <td>[Genre, Action, Comedy, Crime]</td>\n",
       "      <td>[remake, looop lapeta, saade saati]</td>\n",
       "      <td>[Actors, TaapseePannu, TahirRajBhasin]</td>\n",
       "      <td>[Director, AakashBhatia]</td>\n",
       "    </tr>\n",
       "  </tbody>\n",
       "</table>\n",
       "</div>"
      ],
      "text/plain": [
       "   adult  movie_id original_language original_title  \\\n",
       "0  False    783461                hi      लूप लपेटा   \n",
       "\n",
       "                                            overview  \\\n",
       "0  [When, her, boyfriend, loses, a, mobster's, ca...   \n",
       "\n",
       "                        poster_path release_date         title  \\\n",
       "0  /onGdT8sYi89drvSJyEJnft97rOq.jpg   2022-02-04  Looop Lapeta   \n",
       "\n",
       "                           genres                             keywords  \\\n",
       "0  [Genre, Action, Comedy, Crime]  [remake, looop lapeta, saade saati]   \n",
       "\n",
       "                                     cast                      crew  \n",
       "0  [Actors, TaapseePannu, TahirRajBhasin]  [Director, AakashBhatia]  "
      ]
     },
     "execution_count": 263,
     "metadata": {},
     "output_type": "execute_result"
    }
   ],
   "source": [
    "df.head(1)"
   ]
  },
  {
   "cell_type": "code",
   "execution_count": 264,
   "metadata": {},
   "outputs": [],
   "source": [
    "#creating a new column which will have all the information of the movie\n",
    "\n",
    "df['info'] = df['title'].apply(lambda x: \"Movie Name \" + x).apply(lambda x: x.split()) + df['original_language'].apply(lambda x: \"Language\" + x).apply(lambda x: x.split()) + df['release_date'].apply(lambda x: \"Released\" + x[:4] + \".\").apply(lambda x: x.split()) + df['cast'] + df['crew'] + df['overview'] + df['keywords']"
   ]
  },
  {
   "cell_type": "code",
   "execution_count": 265,
   "metadata": {},
   "outputs": [
    {
     "data": {
      "text/plain": [
       "['Movie',\n",
       " 'Name',\n",
       " 'Looop',\n",
       " 'Lapeta',\n",
       " 'Languagehi',\n",
       " 'Released2022.',\n",
       " 'Actors',\n",
       " 'TaapseePannu',\n",
       " 'TahirRajBhasin',\n",
       " 'Director',\n",
       " 'AakashBhatia',\n",
       " 'When',\n",
       " 'her',\n",
       " 'boyfriend',\n",
       " 'loses',\n",
       " 'a',\n",
       " \"mobster's\",\n",
       " 'cash,',\n",
       " 'Savi',\n",
       " 'races',\n",
       " 'against',\n",
       " 'the',\n",
       " 'clock',\n",
       " 'to',\n",
       " 'save',\n",
       " 'the',\n",
       " 'day',\n",
       " '—',\n",
       " 'if',\n",
       " 'only',\n",
       " 'she',\n",
       " 'can',\n",
       " 'break',\n",
       " 'out',\n",
       " 'of',\n",
       " 'a',\n",
       " 'curious',\n",
       " 'cycle',\n",
       " 'of',\n",
       " 'dead',\n",
       " 'ends.',\n",
       " 'remake',\n",
       " 'looop lapeta',\n",
       " 'saade saati']"
      ]
     },
     "execution_count": 265,
     "metadata": {},
     "output_type": "execute_result"
    }
   ],
   "source": [
    "df['info'][0]"
   ]
  },
  {
   "cell_type": "markdown",
   "metadata": {},
   "source": []
  },
  {
   "cell_type": "markdown",
   "metadata": {},
   "source": [
    "Creating the full path for the movie poster, as per the TMDB site the full path for psoter is - \n",
    "- https://image.tmdb.org/t/p/w500/onGdT8sYi89drvSJyEJnft97rOq.jpg\n"
   ]
  },
  {
   "cell_type": "code",
   "execution_count": 266,
   "metadata": {},
   "outputs": [],
   "source": [
    "df['poster'] = df['poster_path'].apply(lambda x: 'https://image.tmdb.org/t/p/w500' + str(x))"
   ]
  },
  {
   "cell_type": "code",
   "execution_count": 267,
   "metadata": {},
   "outputs": [
    {
     "data": {
      "text/plain": [
       "'https://image.tmdb.org/t/p/w500/onGdT8sYi89drvSJyEJnft97rOq.jpg'"
      ]
     },
     "execution_count": 267,
     "metadata": {},
     "output_type": "execute_result"
    }
   ],
   "source": [
    "df['poster'][0]"
   ]
  },
  {
   "cell_type": "markdown",
   "metadata": {},
   "source": [
    "# Text Preprocessing"
   ]
  },
  {
   "cell_type": "code",
   "execution_count": 277,
   "metadata": {},
   "outputs": [],
   "source": [
    "#creatign a new dataframe with the needed columns\n",
    "\n",
    "movies = df[['movie_id','title', 'info', 'poster']]"
   ]
  },
  {
   "cell_type": "code",
   "execution_count": 278,
   "metadata": {},
   "outputs": [
    {
     "data": {
      "text/html": [
       "<div>\n",
       "<style scoped>\n",
       "    .dataframe tbody tr th:only-of-type {\n",
       "        vertical-align: middle;\n",
       "    }\n",
       "\n",
       "    .dataframe tbody tr th {\n",
       "        vertical-align: top;\n",
       "    }\n",
       "\n",
       "    .dataframe thead th {\n",
       "        text-align: right;\n",
       "    }\n",
       "</style>\n",
       "<table border=\"1\" class=\"dataframe\">\n",
       "  <thead>\n",
       "    <tr style=\"text-align: right;\">\n",
       "      <th></th>\n",
       "      <th>movie_id</th>\n",
       "      <th>title</th>\n",
       "      <th>info</th>\n",
       "      <th>poster</th>\n",
       "    </tr>\n",
       "  </thead>\n",
       "  <tbody>\n",
       "    <tr>\n",
       "      <th>0</th>\n",
       "      <td>783461</td>\n",
       "      <td>Looop Lapeta</td>\n",
       "      <td>[Movie, Name, Looop, Lapeta, Languagehi, Relea...</td>\n",
       "      <td>https://image.tmdb.org/t/p/w500/onGdT8sYi89drv...</td>\n",
       "    </tr>\n",
       "    <tr>\n",
       "      <th>1</th>\n",
       "      <td>592508</td>\n",
       "      <td>Sooryavanshi</td>\n",
       "      <td>[Movie, Name, Sooryavanshi, Languagehi, Releas...</td>\n",
       "      <td>https://image.tmdb.org/t/p/w500/8p3mhjyLjHKtaA...</td>\n",
       "    </tr>\n",
       "    <tr>\n",
       "      <th>2</th>\n",
       "      <td>864692</td>\n",
       "      <td>Pathaan</td>\n",
       "      <td>[Movie, Name, Pathaan, Languagehi, Released202...</td>\n",
       "      <td>https://image.tmdb.org/t/p/w500/m1b9toKYyCujHu...</td>\n",
       "    </tr>\n",
       "    <tr>\n",
       "      <th>3</th>\n",
       "      <td>1018228</td>\n",
       "      <td>Chor Nikal Ke Bhaga</td>\n",
       "      <td>[Movie, Name, Chor, Nikal, Ke, Bhaga, Language...</td>\n",
       "      <td>https://image.tmdb.org/t/p/w500/1MIDERaEUMw1rY...</td>\n",
       "    </tr>\n",
       "    <tr>\n",
       "      <th>4</th>\n",
       "      <td>20453</td>\n",
       "      <td>3 Idiots</td>\n",
       "      <td>[Movie, Name, 3, Idiots, Languagehi, Released2...</td>\n",
       "      <td>https://image.tmdb.org/t/p/w500/66A9MqXOyVFCss...</td>\n",
       "    </tr>\n",
       "  </tbody>\n",
       "</table>\n",
       "</div>"
      ],
      "text/plain": [
       "   movie_id                title  \\\n",
       "0    783461         Looop Lapeta   \n",
       "1    592508         Sooryavanshi   \n",
       "2    864692              Pathaan   \n",
       "3   1018228  Chor Nikal Ke Bhaga   \n",
       "4     20453             3 Idiots   \n",
       "\n",
       "                                                info  \\\n",
       "0  [Movie, Name, Looop, Lapeta, Languagehi, Relea...   \n",
       "1  [Movie, Name, Sooryavanshi, Languagehi, Releas...   \n",
       "2  [Movie, Name, Pathaan, Languagehi, Released202...   \n",
       "3  [Movie, Name, Chor, Nikal, Ke, Bhaga, Language...   \n",
       "4  [Movie, Name, 3, Idiots, Languagehi, Released2...   \n",
       "\n",
       "                                              poster  \n",
       "0  https://image.tmdb.org/t/p/w500/onGdT8sYi89drv...  \n",
       "1  https://image.tmdb.org/t/p/w500/8p3mhjyLjHKtaA...  \n",
       "2  https://image.tmdb.org/t/p/w500/m1b9toKYyCujHu...  \n",
       "3  https://image.tmdb.org/t/p/w500/1MIDERaEUMw1rY...  \n",
       "4  https://image.tmdb.org/t/p/w500/66A9MqXOyVFCss...  "
      ]
     },
     "execution_count": 278,
     "metadata": {},
     "output_type": "execute_result"
    }
   ],
   "source": [
    "movies.head()"
   ]
  },
  {
   "cell_type": "code",
   "execution_count": 279,
   "metadata": {},
   "outputs": [],
   "source": [
    "from nltk import PorterStemmer\n",
    "from string import punctuation\n",
    "\n",
    "stemmer = PorterStemmer()\n"
   ]
  },
  {
   "cell_type": "code",
   "execution_count": 280,
   "metadata": {},
   "outputs": [],
   "source": [
    "# we will now stem the info column, lower case it  and remove punctuations\n",
    "\n",
    "def preprocess(obj):\n",
    "    info = []\n",
    "    for word in obj:\n",
    "        word = word.lower()\n",
    "        if word not in punctuation:\n",
    "            word = stemmer.stem(word)\n",
    "            info.append(word)\n",
    "    return info\n",
    "            \n"
   ]
  },
  {
   "cell_type": "code",
   "execution_count": 272,
   "metadata": {},
   "outputs": [
    {
     "data": {
      "text/plain": [
       "['movi',\n",
       " 'name',\n",
       " 'looop',\n",
       " 'lapeta',\n",
       " 'languagehi',\n",
       " 'released2022.',\n",
       " 'actor',\n",
       " 'taapseepannu',\n",
       " 'tahirrajbhasin',\n",
       " 'director',\n",
       " 'aakashbhatia',\n",
       " 'when',\n",
       " 'her',\n",
       " 'boyfriend',\n",
       " 'lose',\n",
       " 'a',\n",
       " \"mobster'\",\n",
       " 'cash,',\n",
       " 'savi',\n",
       " 'race',\n",
       " 'against',\n",
       " 'the',\n",
       " 'clock',\n",
       " 'to',\n",
       " 'save',\n",
       " 'the',\n",
       " 'day',\n",
       " '—',\n",
       " 'if',\n",
       " 'onli',\n",
       " 'she',\n",
       " 'can',\n",
       " 'break',\n",
       " 'out',\n",
       " 'of',\n",
       " 'a',\n",
       " 'curiou',\n",
       " 'cycl',\n",
       " 'of',\n",
       " 'dead',\n",
       " 'ends.',\n",
       " 'remak',\n",
       " 'looop lapeta',\n",
       " 'saade saati']"
      ]
     },
     "execution_count": 272,
     "metadata": {},
     "output_type": "execute_result"
    }
   ],
   "source": [
    "preprocess(movies['info'][0])"
   ]
  },
  {
   "cell_type": "code",
   "execution_count": 281,
   "metadata": {},
   "outputs": [
    {
     "data": {
      "text/plain": [
       "0    [Movie, Name, Looop, Lapeta, Languagehi, Relea...\n",
       "1    [Movie, Name, Sooryavanshi, Languagehi, Releas...\n",
       "2    [Movie, Name, Pathaan, Languagehi, Released202...\n",
       "3    [Movie, Name, Chor, Nikal, Ke, Bhaga, Language...\n",
       "4    [Movie, Name, 3, Idiots, Languagehi, Released2...\n",
       "Name: info, dtype: object"
      ]
     },
     "execution_count": 281,
     "metadata": {},
     "output_type": "execute_result"
    }
   ],
   "source": [
    "movies['info'].head()"
   ]
  },
  {
   "cell_type": "code",
   "execution_count": 282,
   "metadata": {},
   "outputs": [
    {
     "name": "stderr",
     "output_type": "stream",
     "text": [
      "C:\\Users\\Manan\\AppData\\Local\\Temp\\ipykernel_19324\\1999228093.py:1: SettingWithCopyWarning: \n",
      "A value is trying to be set on a copy of a slice from a DataFrame.\n",
      "Try using .loc[row_indexer,col_indexer] = value instead\n",
      "\n",
      "See the caveats in the documentation: https://pandas.pydata.org/pandas-docs/stable/user_guide/indexing.html#returning-a-view-versus-a-copy\n",
      "  movies['info'] = movies['info'].map(preprocess)\n"
     ]
    }
   ],
   "source": [
    "movies['info'] = movies['info'].map(preprocess)\n"
   ]
  },
  {
   "cell_type": "code",
   "execution_count": 283,
   "metadata": {},
   "outputs": [
    {
     "data": {
      "text/plain": [
       "0    [movi, name, looop, lapeta, languagehi, releas...\n",
       "1    [movi, name, sooryavanshi, languagehi, release...\n",
       "2    [movi, name, pathaan, languagehi, released2023...\n",
       "3    [movi, name, chor, nikal, ke, bhaga, languageh...\n",
       "4    [movi, name, 3, idiot, languagehi, released200...\n",
       "Name: info, dtype: object"
      ]
     },
     "execution_count": 283,
     "metadata": {},
     "output_type": "execute_result"
    }
   ],
   "source": [
    "movies['info'].head()"
   ]
  },
  {
   "cell_type": "code",
   "execution_count": 284,
   "metadata": {},
   "outputs": [
    {
     "name": "stderr",
     "output_type": "stream",
     "text": [
      "C:\\Users\\Manan\\AppData\\Local\\Temp\\ipykernel_19324\\3427641923.py:3: SettingWithCopyWarning: \n",
      "A value is trying to be set on a copy of a slice from a DataFrame.\n",
      "Try using .loc[row_indexer,col_indexer] = value instead\n",
      "\n",
      "See the caveats in the documentation: https://pandas.pydata.org/pandas-docs/stable/user_guide/indexing.html#returning-a-view-versus-a-copy\n",
      "  movies['info'] = movies['info'].apply(lambda x: \" \".join(x))\n"
     ]
    }
   ],
   "source": [
    "#converting the info column back into a string from the list\n",
    "\n",
    "movies['info'] = movies['info'].apply(lambda x: \" \".join(x))\n"
   ]
  },
  {
   "cell_type": "code",
   "execution_count": 285,
   "metadata": {},
   "outputs": [
    {
     "data": {
      "text/plain": [
       "\"movi name looop lapeta languagehi released2022. actor taapseepannu tahirrajbhasin director aakashbhatia when her boyfriend lose a mobster' cash, savi race against the clock to save the day — if onli she can break out of a curiou cycl of dead ends. remak looop lapeta saade saati\""
      ]
     },
     "execution_count": 285,
     "metadata": {},
     "output_type": "execute_result"
    }
   ],
   "source": [
    "movies['info'][0]"
   ]
  },
  {
   "cell_type": "markdown",
   "metadata": {},
   "source": [
    "# TF-IDF Vectorization"
   ]
  },
  {
   "cell_type": "code",
   "execution_count": 286,
   "metadata": {},
   "outputs": [],
   "source": [
    "from sklearn.feature_extraction.text import TfidfVectorizer\n",
    "from sklearn.metrics.pairwise import cosine_similarity"
   ]
  },
  {
   "cell_type": "code",
   "execution_count": 287,
   "metadata": {},
   "outputs": [],
   "source": [
    "# Create a TfidfVectorizer object\n",
    "tfidf = TfidfVectorizer(stop_words='english')\n",
    "\n",
    "# Apply the vectorizer on the 'info' column\n",
    "tfidf_matrix = tfidf.fit_transform(movies['info'])"
   ]
  },
  {
   "cell_type": "code",
   "execution_count": 288,
   "metadata": {},
   "outputs": [
    {
     "data": {
      "text/plain": [
       "<Compressed Sparse Row sparse matrix of dtype 'float64'\n",
       "\twith 28 stored elements and shape (1, 55746)>"
      ]
     },
     "execution_count": 288,
     "metadata": {},
     "output_type": "execute_result"
    }
   ],
   "source": [
    "tfidf_matrix[0]"
   ]
  },
  {
   "cell_type": "markdown",
   "metadata": {},
   "source": [
    "# Recommender System with Cosine Similarity"
   ]
  },
  {
   "cell_type": "code",
   "execution_count": 289,
   "metadata": {},
   "outputs": [],
   "source": [
    "from sklearn.metrics.pairwise import cosine_similarity\n",
    "\n",
    "# Compute the cosine similarity matrix\n",
    "cosine_sim = cosine_similarity(tfidf_matrix, tfidf_matrix)"
   ]
  },
  {
   "cell_type": "markdown",
   "metadata": {},
   "source": [
    "This matrix contains the distance of each 15655 movies with all the othe movies"
   ]
  },
  {
   "cell_type": "code",
   "execution_count": 290,
   "metadata": {},
   "outputs": [
    {
     "data": {
      "text/plain": [
       "(15655, 15655)"
      ]
     },
     "execution_count": 290,
     "metadata": {},
     "output_type": "execute_result"
    }
   ],
   "source": [
    "cosine_sim.shape"
   ]
  },
  {
   "cell_type": "code",
   "execution_count": 291,
   "metadata": {},
   "outputs": [],
   "source": [
    "#function to recommend movies based on user's input\n",
    "\n",
    "def recommend_movies(movie_name):\n",
    "    # Get the index of the movie that matches the title\n",
    "    movie_index = movies[movies['title'].apply(lambda x: x.lower()) == movie_name.lower()].index[0]\n",
    "\n",
    "    # Get the similarity scores of all movies with the movie_index\n",
    "    similarity_scores = list(enumerate(cosine_sim[movie_index]))\n",
    "    \n",
    "    # Sort the movies based on the similarity scores in descending order\n",
    "    sorted_movies = sorted(similarity_scores, key=lambda x: x[1], reverse=True)\n",
    "\n",
    "    # Get the top 10 recommended movies\n",
    "    recommended_movies = [movies.iloc[i[0]]['title'] for i in sorted_movies[1:11]]\n",
    "\n",
    "    return recommended_movies"
   ]
  },
  {
   "cell_type": "code",
   "execution_count": 293,
   "metadata": {},
   "outputs": [
    {
     "data": {
      "text/plain": [
       "['3 Idiots',\n",
       " 'College Campus',\n",
       " 'Animal House',\n",
       " 'Yaariyan',\n",
       " 'Bheja Fry',\n",
       " 'Smart Ass',\n",
       " 'Decision',\n",
       " 'The Dinner Game',\n",
       " 'Kristy',\n",
       " 'Doctor G']"
      ]
     },
     "execution_count": 293,
     "metadata": {},
     "output_type": "execute_result"
    }
   ],
   "source": [
    "recommend_movies('3 idiots')"
   ]
  },
  {
   "cell_type": "markdown",
   "metadata": {},
   "source": [
    "# Saving artifacts"
   ]
  },
  {
   "cell_type": "code",
   "execution_count": null,
   "metadata": {},
   "outputs": [
    {
     "data": {
      "text/html": [
       "<div>\n",
       "<style scoped>\n",
       "    .dataframe tbody tr th:only-of-type {\n",
       "        vertical-align: middle;\n",
       "    }\n",
       "\n",
       "    .dataframe tbody tr th {\n",
       "        vertical-align: top;\n",
       "    }\n",
       "\n",
       "    .dataframe thead th {\n",
       "        text-align: right;\n",
       "    }\n",
       "</style>\n",
       "<table border=\"1\" class=\"dataframe\">\n",
       "  <thead>\n",
       "    <tr style=\"text-align: right;\">\n",
       "      <th></th>\n",
       "      <th>movie_id</th>\n",
       "      <th>title</th>\n",
       "      <th>info</th>\n",
       "      <th>poster</th>\n",
       "    </tr>\n",
       "  </thead>\n",
       "  <tbody>\n",
       "    <tr>\n",
       "      <th>0</th>\n",
       "      <td>783461</td>\n",
       "      <td>Looop Lapeta</td>\n",
       "      <td>Movie Name: Looop Lapeta Released in 2022. Act...</td>\n",
       "      <td>https://image.tmdb.org/t/p/w500/onGdT8sYi89drv...</td>\n",
       "    </tr>\n",
       "    <tr>\n",
       "      <th>1</th>\n",
       "      <td>592508</td>\n",
       "      <td>Sooryavanshi</td>\n",
       "      <td>Movie Name: Sooryavanshi Released in 2021. Act...</td>\n",
       "      <td>https://image.tmdb.org/t/p/w500/8p3mhjyLjHKtaA...</td>\n",
       "    </tr>\n",
       "    <tr>\n",
       "      <th>2</th>\n",
       "      <td>864692</td>\n",
       "      <td>Pathaan</td>\n",
       "      <td>Movie Name: Pathaan Released in 2023. Actors a...</td>\n",
       "      <td>https://image.tmdb.org/t/p/w500/m1b9toKYyCujHu...</td>\n",
       "    </tr>\n",
       "    <tr>\n",
       "      <th>3</th>\n",
       "      <td>1018228</td>\n",
       "      <td>Chor Nikal Ke Bhaga</td>\n",
       "      <td>Movie Name: Chor Nikal Ke Bhaga Released in 20...</td>\n",
       "      <td>https://image.tmdb.org/t/p/w500/1MIDERaEUMw1rY...</td>\n",
       "    </tr>\n",
       "    <tr>\n",
       "      <th>4</th>\n",
       "      <td>20453</td>\n",
       "      <td>3 Idiots</td>\n",
       "      <td>Movie Name: 3 Idiots Released in 2009. Actors ...</td>\n",
       "      <td>https://image.tmdb.org/t/p/w500/66A9MqXOyVFCss...</td>\n",
       "    </tr>\n",
       "  </tbody>\n",
       "</table>\n",
       "</div>"
      ],
      "text/plain": [
       "   movie_id                title  \\\n",
       "0    783461         Looop Lapeta   \n",
       "1    592508         Sooryavanshi   \n",
       "2    864692              Pathaan   \n",
       "3   1018228  Chor Nikal Ke Bhaga   \n",
       "4     20453             3 Idiots   \n",
       "\n",
       "                                                info  \\\n",
       "0  Movie Name: Looop Lapeta Released in 2022. Act...   \n",
       "1  Movie Name: Sooryavanshi Released in 2021. Act...   \n",
       "2  Movie Name: Pathaan Released in 2023. Actors a...   \n",
       "3  Movie Name: Chor Nikal Ke Bhaga Released in 20...   \n",
       "4  Movie Name: 3 Idiots Released in 2009. Actors ...   \n",
       "\n",
       "                                              poster  \n",
       "0  https://image.tmdb.org/t/p/w500/onGdT8sYi89drv...  \n",
       "1  https://image.tmdb.org/t/p/w500/8p3mhjyLjHKtaA...  \n",
       "2  https://image.tmdb.org/t/p/w500/m1b9toKYyCujHu...  \n",
       "3  https://image.tmdb.org/t/p/w500/1MIDERaEUMw1rY...  \n",
       "4  https://image.tmdb.org/t/p/w500/66A9MqXOyVFCss...  "
      ]
     },
     "execution_count": 141,
     "metadata": {},
     "output_type": "execute_result"
    }
   ],
   "source": [
    "movies.head()"
   ]
  },
  {
   "cell_type": "code",
   "execution_count": null,
   "metadata": {},
   "outputs": [],
   "source": [
    "movies.to_csv(\"movies.csv\")"
   ]
  },
  {
   "cell_type": "code",
   "execution_count": 297,
   "metadata": {},
   "outputs": [],
   "source": [
    "# Save the cosine similarity matrix as a .npy file\n",
    "np.save('cosine_sim.npy', cosine_sim)"
   ]
  },
  {
   "cell_type": "code",
   "execution_count": 294,
   "metadata": {},
   "outputs": [],
   "source": [
    "#saving cosine similarity matrix \n",
    "\n",
    "import pickle \n",
    "\n",
    "with open('cosine_sim.pkl', 'wb') as f:\n",
    "    pickle.dump(cosine_sim, f)"
   ]
  },
  {
   "cell_type": "code",
   "execution_count": 295,
   "metadata": {},
   "outputs": [],
   "source": [
    "#checkign the loaded object\n",
    "with open('cosine_sim.pkl', 'rb') as f:\n",
    "    cosine_sim = pickle.load(f)"
   ]
  },
  {
   "cell_type": "code",
   "execution_count": 296,
   "metadata": {},
   "outputs": [
    {
     "data": {
      "text/plain": [
       "array([[1.        , 0.00415146, 0.01586104, ..., 0.00116486, 0.00151555,\n",
       "        0.01200664],\n",
       "       [0.00415146, 1.        , 0.04630842, ..., 0.00127902, 0.02732387,\n",
       "        0.00130957],\n",
       "       [0.01586104, 0.04630842, 1.        , ..., 0.00698716, 0.00165243,\n",
       "        0.00730305],\n",
       "       ...,\n",
       "       [0.00116486, 0.00127902, 0.00698716, ..., 1.        , 0.07555539,\n",
       "        0.00170947],\n",
       "       [0.00151555, 0.02732387, 0.00165243, ..., 0.07555539, 1.        ,\n",
       "        0.01724861],\n",
       "       [0.01200664, 0.00130957, 0.00730305, ..., 0.00170947, 0.01724861,\n",
       "        1.        ]])"
      ]
     },
     "execution_count": 296,
     "metadata": {},
     "output_type": "execute_result"
    }
   ],
   "source": [
    "cosine_sim"
   ]
  },
  {
   "cell_type": "code",
   "execution_count": null,
   "metadata": {},
   "outputs": [],
   "source": []
  }
 ],
 "metadata": {
  "kernelspec": {
   "display_name": "Python 3",
   "language": "python",
   "name": "python3"
  },
  "language_info": {
   "codemirror_mode": {
    "name": "ipython",
    "version": 3
   },
   "file_extension": ".py",
   "mimetype": "text/x-python",
   "name": "python",
   "nbconvert_exporter": "python",
   "pygments_lexer": "ipython3",
   "version": "3.12.4"
  }
 },
 "nbformat": 4,
 "nbformat_minor": 2
}
